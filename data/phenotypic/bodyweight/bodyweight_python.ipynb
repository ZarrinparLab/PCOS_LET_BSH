{
 "cells": [
  {
   "cell_type": "code",
   "execution_count": 74,
   "metadata": {},
   "outputs": [],
   "source": [
    "import seaborn as sns\n",
    "import pandas as pd\n",
    "import numpy as np\n",
    "import matplotlib.pyplot as plt\n",
    "from datetime import datetime\n",
    "from scipy import stats"
   ]
  },
  {
   "cell_type": "code",
   "execution_count": 75,
   "metadata": {},
   "outputs": [],
   "source": [
    "erica_path = '/home/emaissy/zarrinpar/Pynchon/Notebooks/emaissy/PCOS_treatment/bodyweight'"
   ]
  },
  {
   "cell_type": "code",
   "execution_count": 100,
   "metadata": {},
   "outputs": [],
   "source": [
    "df = pd.read_csv(erica_path+'/PC_bodyweightdata.csv')"
   ]
  },
  {
   "cell_type": "code",
   "execution_count": 77,
   "metadata": {},
   "outputs": [
    {
     "name": "stdout",
     "output_type": "stream",
     "text": [
      "    Mouse_ID  Condition  Age_weeks  Bodyweight_grams\n",
      "0         1N    Placebo          4              10.5\n",
      "1         1L    Placebo          4              10.8\n",
      "2         2N    Placebo          4              11.3\n",
      "3         2L    Placebo          4              13.8\n",
      "4         3N    Placebo          4              14.9\n",
      "5         3L    Placebo          4              14.2\n",
      "6         4N    Placebo          4              13.0\n",
      "7         4L    Placebo          4              11.1\n",
      "8         5N    Placebo          4              12.2\n",
      "9         5L    Placebo          4              12.5\n",
      "10        6N  Letrozole          4              10.9\n",
      "11        6L  Letrozole          4              14.1\n",
      "12        7N  Letrozole          4              10.6\n",
      "13        7L  Letrozole          4              11.6\n",
      "14        8N  Letrozole          4              13.5\n",
      "15        8L  Letrozole          4              13.8\n",
      "16        9N  Letrozole          4              11.3\n",
      "17        9L  Letrozole          4              13.0\n",
      "18       10N  Letrozole          4              13.6\n",
      "19       10L  Letrozole          4              10.0\n",
      "20       11N    Placebo          4              10.2\n",
      "21       11L    Placebo          4              11.8\n",
      "22       12N    Placebo          4              12.2\n",
      "23       12L    Placebo          4              13.7\n",
      "24       13N    Placebo          4              14.8\n",
      "25       13L    Placebo          4              13.8\n",
      "26       14N    Placebo          4              10.2\n",
      "27       14L    Placebo          4              11.2\n",
      "28       15N    Placebo          4              11.8\n",
      "29       15L    Placebo          4              12.9\n",
      "..       ...        ...        ...               ...\n",
      "170       6N  Letrozole          8              20.0\n",
      "171       6L  Letrozole          8              19.3\n",
      "172       7N  Letrozole          8              18.3\n",
      "173       7L  Letrozole          8              18.8\n",
      "174       8N  Letrozole          8              18.5\n",
      "175       8L  Letrozole          8              20.8\n",
      "176       9N  Letrozole          8              19.1\n",
      "177       9L  Letrozole          8              16.8\n",
      "178      10N  Letrozole          8              17.9\n",
      "179      10L  Letrozole          8              18.3\n",
      "180      11N    Placebo          8              19.0\n",
      "181      11L    Placebo          8              17.2\n",
      "182      12N    Placebo          8              18.6\n",
      "183      12L    Placebo          8              16.4\n",
      "184      13N    Placebo          8              17.5\n",
      "185      13L    Placebo          8              17.6\n",
      "186      14N    Placebo          8              15.0\n",
      "187      14L    Placebo          8              15.1\n",
      "188      15N    Placebo          8              16.0\n",
      "189      15L    Placebo          8              16.0\n",
      "190      16N  Letrozole          8              17.7\n",
      "191      16L  Letrozole          8              16.8\n",
      "192      17N  Letrozole          8              19.9\n",
      "193      17L  Letrozole          8              19.4\n",
      "194      18N  Letrozole          8              16.1\n",
      "195      18L  Letrozole          8              19.9\n",
      "196      19N  Letrozole          8              20.2\n",
      "197      19L  Letrozole          8              17.7\n",
      "198      20N  Letrozole          8              19.1\n",
      "199      20L  Letrozole          8              19.3\n",
      "\n",
      "[200 rows x 4 columns]\n"
     ]
    }
   ],
   "source": [
    "print(df)"
   ]
  },
  {
   "cell_type": "code",
   "execution_count": 38,
   "metadata": {},
   "outputs": [],
   "source": [
    "abc = df.copy()"
   ]
  },
  {
   "cell_type": "code",
   "execution_count": 141,
   "metadata": {},
   "outputs": [
    {
     "data": {
      "image/png": "[encoded data removed]",
      "text/plain": [
       "<Figure size 432x288 with 1 Axes>"
      ]
     },
     "metadata": {
      "needs_background": "light"
     },
     "output_type": "display_data"
    }
   ],
   "source": [
    "ax = sns.lineplot (x=\"Age_weeks\", y=\"Bodyweight_grams\", data=abc, hue=\"Condition\", palette=\"Set2\", ci=0)\n",
    "plt.xticks(np.arange(min(x), max(x)+1, 1.0))\n",
    "plt.yticks(np.arange(min(y), max(y)+1, 1.0))\n",
    "ax = sns.pointplot(x=\"Age_weeks\", y=\"Bodyweight_grams\", data=abc, hue=\"Condition\", palette=\"Set2\", ci=68)\n",
    "plt.ylabel('Bodyweight (g)')\n",
    "plt.xlabel('Age (weeks)')\n",
    "plt.legend([],[], frameon=False)\n",
    "plt.savefig('PC_bodweight_week4.svg')"
   ]
  },
  {
   "cell_type": "code",
   "execution_count": 99,
   "metadata": {},
   "outputs": [],
   "source": [
    "df2 = pd.read_csv(erica_path+'/PC_bodyweightdata_4groups.csv')"
   ]
  },
  {
   "cell_type": "code",
   "execution_count": 101,
   "metadata": {},
   "outputs": [
    {
     "name": "stdout",
     "output_type": "stream",
     "text": [
      "    Mouse_ID Condition  Age_weeks  Bodyweight_grams\n",
      "0         1N    BSH- P          4              10.5\n",
      "1         1L    BSH- P          4              10.8\n",
      "2         2N    BSH- P          4              11.3\n",
      "3         2L    BSH- P          4              13.8\n",
      "4         3N    BSH- P          4              14.9\n",
      "5         3L    BSH- P          4              14.2\n",
      "6         4N    BSH- P          4              13.0\n",
      "7         4L    BSH- P          4              11.1\n",
      "8         5N    BSH- P          4              12.2\n",
      "9         5L    BSH- P          4              12.5\n",
      "10        6N    BSH- L          4              10.9\n",
      "11        6L    BSH- L          4              14.1\n",
      "12        7N    BSH- L          4              10.6\n",
      "13        7L    BSH- L          4              11.6\n",
      "14        8N    BSH- L          4              13.5\n",
      "15        8L    BSH- L          4              13.8\n",
      "16        9N    BSH- L          4              11.3\n",
      "17        9L    BSH- L          4              13.0\n",
      "18       10N    BSH- L          4              13.6\n",
      "19       10L    BSH- L          4              10.0\n",
      "20       11N    BSH+ P          4              10.2\n",
      "21       11L    BSH+ P          4              11.8\n",
      "22       12N    BSH+ P          4              12.2\n",
      "23       12L    BSH+ P          4              13.7\n",
      "24       13N    BSH+ P          4              14.8\n",
      "25       13L    BSH+ P          4              13.8\n",
      "26       14N    BSH+ P          4              10.2\n",
      "27       14L    BSH+ P          4              11.2\n",
      "28       15N    BSH+ P          4              11.8\n",
      "29       15L    BSH+ P          4              12.9\n",
      "..       ...       ...        ...               ...\n",
      "170       6N    BSH- L          8              20.0\n",
      "171       6L    BSH- L          8              19.3\n",
      "172       7N    BSH- L          8              18.3\n",
      "173       7L    BSH- L          8              18.8\n",
      "174       8N    BSH- L          8              18.5\n",
      "175       8L    BSH- L          8              20.8\n",
      "176       9N    BSH- L          8              19.1\n",
      "177       9L    BSH- L          8              16.8\n",
      "178      10N    BSH- L          8              17.9\n",
      "179      10L    BSH- L          8              18.3\n",
      "180      11N    BSH+ P          8              19.0\n",
      "181      11L    BSH+ P          8              17.2\n",
      "182      12N    BSH+ P          8              18.6\n",
      "183      12L    BSH+ P          8              16.4\n",
      "184      13N    BSH+ P          8              17.5\n",
      "185      13L    BSH+ P          8              17.6\n",
      "186      14N    BSH+ P          8              15.0\n",
      "187      14L    BSH+ P          8              15.1\n",
      "188      15N    BSH+ P          8              16.0\n",
      "189      15L    BSH+ P          8              16.0\n",
      "190      16N    BSH+ L          8              17.7\n",
      "191      16L    BSH+ L          8              16.8\n",
      "192      17N    BSH+ L          8              19.9\n",
      "193      17L    BSH+ L          8              19.4\n",
      "194      18N    BSH+ L          8              16.1\n",
      "195      18L    BSH+ L          8              19.9\n",
      "196      19N    BSH+ L          8              20.2\n",
      "197      19L    BSH+ L          8              17.7\n",
      "198      20N    BSH+ L          8              19.1\n",
      "199      20L    BSH+ L          8              19.3\n",
      "\n",
      "[200 rows x 4 columns]\n"
     ]
    }
   ],
   "source": [
    "print(df2)"
   ]
  },
  {
   "cell_type": "code",
   "execution_count": 102,
   "metadata": {},
   "outputs": [],
   "source": [
    "xyz = df2.copy()"
   ]
  },
  {
   "cell_type": "code",
   "execution_count": 114,
   "metadata": {},
   "outputs": [
    {
     "data": {
      "image/png": "[encoded data removed]",
      "text/plain": [
       "<Figure size 432x288 with 1 Axes>"
      ]
     },
     "metadata": {
      "needs_background": "light"
     },
     "output_type": "display_data"
    }
   ],
   "source": [
    "ax = sns.lineplot (x=\"Age_weeks\", y=\"Bodyweight_grams\", data=xyz, hue=\"Condition\", palette=\"Set2\", ci=0)\n",
    "plt.xticks(np.arange(min(x), max(x)+1, 1.0))\n",
    "plt.yticks(np.arange(min(y), max(y)+1, 1.0))\n",
    "ax2 = sns.pointplot(x=\"Age_weeks\", y=\"Bodyweight_grams\", data=xyz, hue=\"Condition\", palette=\"Set2\", ci=68)\n",
    "plt.legend([],[], frameon=False)\n",
    "plt.ylabel('Bodyweight (g)')\n",
    "plt.xlabel('Age (weeks)')\n",
    "plt.savefig('PC_bodweight_week4_nolegend.svg')"
   ]
  },
  {
   "cell_type": "code",
   "execution_count": 127,
   "metadata": {},
   "outputs": [],
   "source": [
    "df3 = pd.read_csv(erica_path+'/PC_bodyweightdata_4groups_percentbaseline.csv')"
   ]
  },
  {
   "cell_type": "code",
   "execution_count": 128,
   "metadata": {},
   "outputs": [
    {
     "name": "stdout",
     "output_type": "stream",
     "text": [
      "    Mouse_ID Condition  Age_weeks  Bodyweight_grams  Percent_baseline\n",
      "0         1N    BSH- P          4              10.5          0.000000\n",
      "1         1L    BSH- P          4              10.8          0.000000\n",
      "2         2N    BSH- P          4              11.3          0.000000\n",
      "3         2L    BSH- P          4              13.8          0.000000\n",
      "4         3N    BSH- P          4              14.9          0.000000\n",
      "5         3L    BSH- P          4              14.2          0.000000\n",
      "6         4N    BSH- P          4              13.0          0.000000\n",
      "7         4L    BSH- P          4              11.1          0.000000\n",
      "8         5N    BSH- P          4              12.2          0.000000\n",
      "9         5L    BSH- P          4              12.5          0.000000\n",
      "10        6N    BSH- L          4              10.9          0.000000\n",
      "11        6L    BSH- L          4              14.1          0.000000\n",
      "12        7N    BSH- L          4              10.6          0.000000\n",
      "13        7L    BSH- L          4              11.6          0.000000\n",
      "14        8N    BSH- L          4              13.5          0.000000\n",
      "15        8L    BSH- L          4              13.8          0.000000\n",
      "16        9N    BSH- L          4              11.3          0.000000\n",
      "17        9L    BSH- L          4              13.0          0.000000\n",
      "18       10N    BSH- L          4              13.6          0.000000\n",
      "19       10L    BSH- L          4              10.0          0.000000\n",
      "20       11N    BSH+ P          4              10.2          0.000000\n",
      "21       11L    BSH+ P          4              11.8          0.000000\n",
      "22       12N    BSH+ P          4              12.2          0.000000\n",
      "23       12L    BSH+ P          4              13.7          0.000000\n",
      "24       13N    BSH+ P          4              14.8          0.000000\n",
      "25       13L    BSH+ P          4              13.8          0.000000\n",
      "26       14N    BSH+ P          4              10.2          0.000000\n",
      "27       14L    BSH+ P          4              11.2          0.000000\n",
      "28       15N    BSH+ P          4              11.8          0.000000\n",
      "29       15L    BSH+ P          4              12.9          0.000000\n",
      "..       ...       ...        ...               ...               ...\n",
      "170       6N    BSH- L          8              20.0         83.486239\n",
      "171       6L    BSH- L          8              19.3         36.879433\n",
      "172       7N    BSH- L          8              18.3         72.641509\n",
      "173       7L    BSH- L          8              18.8         62.068966\n",
      "174       8N    BSH- L          8              18.5         37.037037\n",
      "175       8L    BSH- L          8              20.8         50.724638\n",
      "176       9N    BSH- L          8              19.1         69.026549\n",
      "177       9L    BSH- L          8              16.8         29.230769\n",
      "178      10N    BSH- L          8              17.9         31.617647\n",
      "179      10L    BSH- L          8              18.3         83.000000\n",
      "180      11N    BSH+ P          8              19.0         86.274510\n",
      "181      11L    BSH+ P          8              17.2         45.762712\n",
      "182      12N    BSH+ P          8              18.6         52.459016\n",
      "183      12L    BSH+ P          8              16.4         19.708029\n",
      "184      13N    BSH+ P          8              17.5         18.243243\n",
      "185      13L    BSH+ P          8              17.6         27.536232\n",
      "186      14N    BSH+ P          8              15.0         47.058824\n",
      "187      14L    BSH+ P          8              15.1         34.821429\n",
      "188      15N    BSH+ P          8              16.0         35.593220\n",
      "189      15L    BSH+ P          8              16.0         24.031008\n",
      "190      16N    BSH+ L          8              17.7         43.902439\n",
      "191      16L    BSH+ L          8              16.8         69.696970\n",
      "192      17N    BSH+ L          8              19.9         48.507463\n",
      "193      17L    BSH+ L          8              19.4         59.016393\n",
      "194      18N    BSH+ L          8              16.1         38.793103\n",
      "195      18L    BSH+ L          8              19.9         47.407407\n",
      "196      19N    BSH+ L          8              20.2         50.746269\n",
      "197      19L    BSH+ L          8              17.7         41.600000\n",
      "198      20N    BSH+ L          8              19.1         50.393701\n",
      "199      20L    BSH+ L          8              19.3         36.879433\n",
      "\n",
      "[200 rows x 5 columns]\n"
     ]
    }
   ],
   "source": [
    "print(df3)"
   ]
  },
  {
   "cell_type": "code",
   "execution_count": 129,
   "metadata": {},
   "outputs": [],
   "source": [
    "abcd = df3.copy()"
   ]
  },
  {
   "cell_type": "code",
   "execution_count": 140,
   "metadata": {},
   "outputs": [
    {
     "data": {
      "image/png": "[encoded data removed]",
      "text/plain": [
       "<Figure size 432x288 with 1 Axes>"
      ]
     },
     "metadata": {
      "needs_background": "light"
     },
     "output_type": "display_data"
    }
   ],
   "source": [
    "ax = sns.lineplot (x=\"Age_weeks\", y=\"Percent_baseline\", data=abcd, hue=\"Condition\", palette=\"Set2\", ci=0)\n",
    "ax = sns.pointplot(x=\"Age_weeks\", y=\"Percent_baseline\", data=abcd, hue=\"Condition\", palette=\"Set2\", ci=68)\n",
    "plt.ylabel('Bodyweight (% baseline)')\n",
    "plt.xlabel('Age (weeks)')\n",
    "plt.legend([],[], frameon=False)\n",
    "plt.savefig('PC_bodweight_week4_percentbaseline.svg')"
   ]
  },
  {
   "cell_type": "code",
   "execution_count": 148,
   "metadata": {},
   "outputs": [],
   "source": [
    "df4 = pd.read_csv(erica_path+'/PC_bodyweightdata_2groups_percentbaseline.csv')"
   ]
  },
  {
   "cell_type": "code",
   "execution_count": 149,
   "metadata": {},
   "outputs": [
    {
     "name": "stdout",
     "output_type": "stream",
     "text": [
      "    Mouse_ID  Condition  Age_weeks  Bodyweight_grams  Percent_baseline\n",
      "0         1N    Placebo          4              10.5          0.000000\n",
      "1         1L    Placebo          4              10.8          0.000000\n",
      "2         2N    Placebo          4              11.3          0.000000\n",
      "3         2L    Placebo          4              13.8          0.000000\n",
      "4         3N    Placebo          4              14.9          0.000000\n",
      "5         3L    Placebo          4              14.2          0.000000\n",
      "6         4N    Placebo          4              13.0          0.000000\n",
      "7         4L    Placebo          4              11.1          0.000000\n",
      "8         5N    Placebo          4              12.2          0.000000\n",
      "9         5L    Placebo          4              12.5          0.000000\n",
      "10        6N  Letrozole          4              10.9          0.000000\n",
      "11        6L  Letrozole          4              14.1          0.000000\n",
      "12        7N  Letrozole          4              10.6          0.000000\n",
      "13        7L  Letrozole          4              11.6          0.000000\n",
      "14        8N  Letrozole          4              13.5          0.000000\n",
      "15        8L  Letrozole          4              13.8          0.000000\n",
      "16        9N  Letrozole          4              11.3          0.000000\n",
      "17        9L  Letrozole          4              13.0          0.000000\n",
      "18       10N  Letrozole          4              13.6          0.000000\n",
      "19       10L  Letrozole          4              10.0          0.000000\n",
      "20       11N    Placebo          4              10.2          0.000000\n",
      "21       11L    Placebo          4              11.8          0.000000\n",
      "22       12N    Placebo          4              12.2          0.000000\n",
      "23       12L    Placebo          4              13.7          0.000000\n",
      "24       13N    Placebo          4              14.8          0.000000\n",
      "25       13L    Placebo          4              13.8          0.000000\n",
      "26       14N    Placebo          4              10.2          0.000000\n",
      "27       14L    Placebo          4              11.2          0.000000\n",
      "28       15N    Placebo          4              11.8          0.000000\n",
      "29       15L    Placebo          4              12.9          0.000000\n",
      "..       ...        ...        ...               ...               ...\n",
      "170       6N  Letrozole          8              20.0         83.486239\n",
      "171       6L  Letrozole          8              19.3         36.879433\n",
      "172       7N  Letrozole          8              18.3         72.641509\n",
      "173       7L  Letrozole          8              18.8         62.068966\n",
      "174       8N  Letrozole          8              18.5         37.037037\n",
      "175       8L  Letrozole          8              20.8         50.724638\n",
      "176       9N  Letrozole          8              19.1         69.026549\n",
      "177       9L  Letrozole          8              16.8         29.230769\n",
      "178      10N  Letrozole          8              17.9         31.617647\n",
      "179      10L  Letrozole          8              18.3         83.000000\n",
      "180      11N    Placebo          8              19.0         86.274510\n",
      "181      11L    Placebo          8              17.2         45.762712\n",
      "182      12N    Placebo          8              18.6         52.459016\n",
      "183      12L    Placebo          8              16.4         19.708029\n",
      "184      13N    Placebo          8              17.5         18.243243\n",
      "185      13L    Placebo          8              17.6         27.536232\n",
      "186      14N    Placebo          8              15.0         47.058824\n",
      "187      14L    Placebo          8              15.1         34.821429\n",
      "188      15N    Placebo          8              16.0         35.593220\n",
      "189      15L    Placebo          8              16.0         24.031008\n",
      "190      16N  Letrozole          8              17.7         43.902439\n",
      "191      16L  Letrozole          8              16.8         69.696970\n",
      "192      17N  Letrozole          8              19.9         48.507463\n",
      "193      17L  Letrozole          8              19.4         59.016393\n",
      "194      18N  Letrozole          8              16.1         38.793103\n",
      "195      18L  Letrozole          8              19.9         47.407407\n",
      "196      19N  Letrozole          8              20.2         50.746269\n",
      "197      19L  Letrozole          8              17.7         41.600000\n",
      "198      20N  Letrozole          8              19.1         50.393701\n",
      "199      20L  Letrozole          8              19.3         36.879433\n",
      "\n",
      "[200 rows x 5 columns]\n"
     ]
    }
   ],
   "source": [
    "print(df4)"
   ]
  },
  {
   "cell_type": "code",
   "execution_count": 150,
   "metadata": {},
   "outputs": [],
   "source": [
    "wxyz = df4.copy()"
   ]
  },
  {
   "cell_type": "code",
   "execution_count": 151,
   "metadata": {},
   "outputs": [
    {
     "data": {
      "image/png": "[encoded data removed]",
      "text/plain": [
       "<Figure size 432x288 with 1 Axes>"
      ]
     },
     "metadata": {
      "needs_background": "light"
     },
     "output_type": "display_data"
    }
   ],
   "source": [
    "ax = sns.lineplot (x=\"Age_weeks\", y=\"Percent_baseline\", data=wxyz, hue=\"Condition\", palette=\"Set2\", ci=0)\n",
    "ax = sns.pointplot(x=\"Age_weeks\", y=\"Percent_baseline\", data=wxyz, hue=\"Condition\", palette=\"Set2\", ci=68)\n",
    "plt.ylabel('Bodyweight (% baseline)')\n",
    "plt.xlabel('Age (weeks)')\n",
    "plt.legend([],[], frameon=False)\n",
    "plt.savefig('PC_bodweight_2groups_percentbaseline.svg')"
   ]
  },
  {
   "cell_type": "code",
   "execution_count": null,
   "metadata": {},
   "outputs": [],
   "source": []
  },
  {
   "cell_type": "code",
   "execution_count": null,
   "metadata": {},
   "outputs": [],
   "source": []
  },
  {
   "cell_type": "code",
   "execution_count": null,
   "metadata": {},
   "outputs": [],
   "source": []
  },
  {
   "cell_type": "code",
   "execution_count": null,
   "metadata": {},
   "outputs": [],
   "source": []
  },
  {
   "cell_type": "code",
   "execution_count": null,
   "metadata": {},
   "outputs": [],
   "source": []
  },
  {
   "cell_type": "code",
   "execution_count": null,
   "metadata": {},
   "outputs": [],
   "source": []
  },
  {
   "cell_type": "code",
   "execution_count": null,
   "metadata": {},
   "outputs": [],
   "source": []
  },
  {
   "cell_type": "code",
   "execution_count": null,
   "metadata": {},
   "outputs": [],
   "source": []
  }
 ],
 "metadata": {
  "kernelspec": {
   "display_name": "Python 3",
   "language": "python",
   "name": "python3"
  },
  "language_info": {
   "codemirror_mode": {
    "name": "ipython",
    "version": 3
   },
   "file_extension": ".py",
   "mimetype": "text/x-python",
   "name": "python",
   "nbconvert_exporter": "python",
   "pygments_lexer": "ipython3",
   "version": "3.7.3"
  }
 },
 "nbformat": 4,
 "nbformat_minor": 4
}
