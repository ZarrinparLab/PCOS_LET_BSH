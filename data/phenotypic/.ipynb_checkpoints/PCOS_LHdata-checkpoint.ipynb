{
 "cells": [
  {
   "cell_type": "code",
   "execution_count": 2,
   "metadata": {},
   "outputs": [],
   "source": [
    "import seaborn as sns\n",
    "import pandas as pd\n",
    "import numpy as np\n",
    "import matplotlib.pyplot as plt\n",
    "from datetime import datetime\n",
    "from scipy import stats"
   ]
  },
  {
   "cell_type": "code",
   "execution_count": 10,
   "metadata": {},
   "outputs": [],
   "source": [
    "erica_path = '/home/emaissy/zarrinpar/Pynchon/Notebooks/emaissy/PCOS_treatment'"
   ]
  },
  {
   "cell_type": "code",
   "execution_count": 33,
   "metadata": {},
   "outputs": [],
   "source": [
    "df = pd.read_csv(erica_path+'/PCOStreatment_LHvalues.csv')"
   ]
  },
  {
   "cell_type": "code",
   "execution_count": 34,
   "metadata": {},
   "outputs": [
    {
     "name": "stdout",
     "output_type": "stream",
     "text": [
      "   Condition  LH (ng/ml)\n",
      "0     BSH- P       0.031\n",
      "1     BSH- P       0.095\n",
      "2     BSH- P       0.084\n",
      "3     BSH- P       0.284\n",
      "4     BSH- P       0.126\n",
      "5     BSH- P       0.000\n",
      "6     BSH- P       0.060\n",
      "7     BSH- P       0.038\n",
      "8     BSH- P       0.033\n",
      "9   BSH- LET       0.671\n",
      "10  BSH- LET       0.198\n",
      "11  BSH- LET       0.145\n",
      "12  BSH- LET       0.305\n",
      "13  BSH- LET       0.362\n",
      "14  BSH- LET       0.864\n",
      "15  BSH- LET       0.941\n",
      "16  BSH- LET       0.508\n",
      "17  BSH- LET       0.644\n",
      "18    BSH+ P       0.045\n",
      "19    BSH+ P       0.043\n",
      "20    BSH+ P       0.028\n",
      "21    BSH+ P       0.040\n",
      "22    BSH+ P       0.000\n",
      "23    BSH+ P       0.000\n",
      "24    BSH+ P       0.033\n",
      "25    BSH+ P       0.020\n",
      "26    BSH+ P       0.047\n",
      "27    BSH+ P       0.038\n",
      "28  BSH+ LET       0.057\n",
      "29  BSH+ LET       0.057\n",
      "30  BSH+ LET       1.064\n",
      "31  BSH+ LET       0.357\n",
      "32  BSH+ LET       0.070\n",
      "33  BSH+ LET       0.321\n",
      "34  BSH+ LET       0.741\n",
      "35  BSH+ LET       0.409\n",
      "36  BSH+ LET       0.881\n",
      "37  BSH+ LET       0.826\n"
     ]
    }
   ],
   "source": [
    "print(df)"
   ]
  },
  {
   "cell_type": "code",
   "execution_count": 35,
   "metadata": {},
   "outputs": [],
   "source": [
    "abc = df.copy()"
   ]
  },
  {
   "cell_type": "code",
   "execution_count": 46,
   "metadata": {},
   "outputs": [
    {
     "data": {
      "image/png": "[encoded data removed]",
      "text/plain": [
       "<Figure size 432x288 with 1 Axes>"
      ]
     },
     "metadata": {},
     "output_type": "display_data"
    }
   ],
   "source": [
    "import seaborn as sns, matplotlib.pyplot as plt\n",
    "sns.set(style=\"whitegrid\")\n",
    "\n",
    "ax = sns.barplot (x = \"Condition\", y=\"LH (ng/ml)\", data=abc, hue=\"Condition\", palette=\"Set2\", ci=68)\n",
    "ax = sns.swarmplot(x = \"Condition\", y=\"LH (ng/ml)\", data=abc, color=\"0\", alpha=.35)\n",
    "plt.legend([],[], frameon=False)\n",
    "plt.savefig('LH.svg')"
   ]
  },
  {
   "cell_type": "code",
   "execution_count": 43,
   "metadata": {},
   "outputs": [
    {
     "ename": "ModuleNotFoundError",
     "evalue": "No module named 'statannot'",
     "output_type": "error",
     "traceback": [
      "\u001b[0;31m---------------------------------------------------------------------------\u001b[0m",
      "\u001b[0;31mModuleNotFoundError\u001b[0m                       Traceback (most recent call last)",
      "\u001b[0;32m<ipython-input-43-18d346bceefb>\u001b[0m in \u001b[0;36m<module>\u001b[0;34m\u001b[0m\n\u001b[1;32m      1\u001b[0m \u001b[0;32mimport\u001b[0m \u001b[0mseaborn\u001b[0m \u001b[0;32mas\u001b[0m \u001b[0msns\u001b[0m\u001b[0;34m\u001b[0m\u001b[0;34m\u001b[0m\u001b[0m\n\u001b[0;32m----> 2\u001b[0;31m \u001b[0;32mfrom\u001b[0m \u001b[0mstatannot\u001b[0m \u001b[0;32mimport\u001b[0m \u001b[0madd_stat_annotation\u001b[0m\u001b[0;34m\u001b[0m\u001b[0;34m\u001b[0m\u001b[0m\n\u001b[0m\u001b[1;32m      3\u001b[0m \u001b[0;34m\u001b[0m\u001b[0m\n\u001b[1;32m      4\u001b[0m ax, test_results = add_stat_annotation(ax, data=abc, x=Condition, y=LH(ng/ml), order=order,\n\u001b[1;32m      5\u001b[0m                                    \u001b[0mbox_pairs\u001b[0m\u001b[0;34m=\u001b[0m\u001b[0;34m[\u001b[0m\u001b[0;34m(\u001b[0m\u001b[0;34m\"BSH- P\"\u001b[0m\u001b[0;34m,\u001b[0m \u001b[0;34m\"BSH+ P\"\u001b[0m\u001b[0;34m)\u001b[0m\u001b[0;34m,\u001b[0m \u001b[0;34m(\u001b[0m\u001b[0;34m\"BSH- LET\"\u001b[0m\u001b[0;34m,\u001b[0m \u001b[0;34m\"BSH+ LET\"\u001b[0m\u001b[0;34m)\u001b[0m\u001b[0;34m,\u001b[0m \u001b[0;34m(\u001b[0m\u001b[0;34m\"BSH- P\"\u001b[0m\u001b[0;34m,\u001b[0m \u001b[0;34m\"BSH- LET\"\u001b[0m\u001b[0;34m)\u001b[0m\u001b[0;34m,\u001b[0m \u001b[0;34m(\u001b[0m\u001b[0;34m\"BSH+ P\"\u001b[0m\u001b[0;34m,\u001b[0m \u001b[0;34m\"BSH+ LET\"\u001b[0m\u001b[0;34m)\u001b[0m\u001b[0;34m]\u001b[0m\u001b[0;34m,\u001b[0m\u001b[0;34m\u001b[0m\u001b[0;34m\u001b[0m\u001b[0m\n",
      "\u001b[0;31mModuleNotFoundError\u001b[0m: No module named 'statannot'"
     ]
    }
   ],
   "source": [
    "import seaborn as sns\n",
    "from statannot import add_stat_annotation\n",
    "\n",
    "ax, test_results = add_stat_annotation(ax, data=abc, x=Condition, y=LH(ng/ml), order=order,\n",
    "                                   box_pairs=[(\"BSH- P\", \"BSH+ P\"), (\"BSH- LET\", \"BSH+ LET\"), (\"BSH- P\", \"BSH- LET\"), (\"BSH+ P\", \"BSH+ LET\")],\n",
    "                                   test='Mann-Whitney', text_format='star', loc='outside', verbose=2)"
   ]
  },
  {
   "cell_type": "code",
   "execution_count": 102,
   "metadata": {},
   "outputs": [],
   "source": []
  },
  {
   "cell_type": "code",
   "execution_count": 127,
   "metadata": {},
   "outputs": [],
   "source": []
  },
  {
   "cell_type": "code",
   "execution_count": null,
   "metadata": {},
   "outputs": [],
   "source": []
  }
 ],
 "metadata": {
  "kernelspec": {
   "display_name": "Python 3",
   "language": "python",
   "name": "python3"
  },
  "language_info": {
   "codemirror_mode": {
    "name": "ipython",
    "version": 3
   },
   "file_extension": ".py",
   "mimetype": "text/x-python",
   "name": "python",
   "nbconvert_exporter": "python",
   "pygments_lexer": "ipython3",
   "version": "3.7.3"
  }
 },
 "nbformat": 4,
 "nbformat_minor": 4
}
